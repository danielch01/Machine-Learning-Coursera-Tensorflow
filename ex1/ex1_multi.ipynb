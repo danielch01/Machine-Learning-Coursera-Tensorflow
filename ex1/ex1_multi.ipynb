{
 "cells": [
  {
   "cell_type": "code",
   "execution_count": 1,
   "metadata": {
    "collapsed": true
   },
   "outputs": [],
   "source": [
    "import tensorflow as tf\n",
    "import numpy as np\n",
    "import matplotlib.pyplot as plt"
   ]
  },
  {
   "cell_type": "markdown",
   "metadata": {},
   "source": [
    "# Optional Exercise: Linear Regression with Multiple Variables"
   ]
  },
  {
   "cell_type": "markdown",
   "metadata": {},
   "source": [
    "In this part, you will implement linear regression with multiple variables to predict the prices of houses. Suppose you are selling your house and you want to know what a good market price would be. One way to do this is to first collect information on recent houses sold and make a model of housing prices.\n",
    "The file ex1data2.txt contains a training set of housing prices in Portland, Oregon. The first column is the size of the house (in square feet), the second column is the number of bedrooms, and the third column is the price of the house.\n",
    "The ex1 multi.m script has been set up to help you step through this exercise."
   ]
  },
  {
   "cell_type": "code",
   "execution_count": 2,
   "metadata": {
    "collapsed": false
   },
   "outputs": [],
   "source": [
    "filename = \"data/ex1data2.txt\"\n",
    "data = np.loadtxt(filename, delimiter = \",\", unpack = True).astype(np.float32)\n",
    "\n",
    "# Load data from file\n",
    "xtr = np.transpose(np.asarray(data[:-1]))\n",
    "ytr = np.transpose(np.asarray(data[-1:]))\n",
    "\n",
    "# Feature normalization\n",
    "xmean = [np.mean(np.transpose(xtr)[0]), np.mean(np.transpose(xtr)[1])]\n",
    "xstd = [np.std(np.transpose(xtr)[0]), np.std(np.transpose(xtr)[1])]\n",
    "xtr =(xtr - xmean)/xstd"
   ]
  },
  {
   "cell_type": "code",
   "execution_count": 3,
   "metadata": {
    "collapsed": false
   },
   "outputs": [],
   "source": [
    "# Define weights:\n",
    "W = tf.Variable(tf.zeros([2,1]))\n",
    "\n",
    "# Define biases:\n",
    "b = tf.Variable(tf.zeros([2]))\n",
    "\n",
    "# Define cost function:\n",
    "y = tf.matmul(xtr, W) + b"
   ]
  },
  {
   "cell_type": "code",
   "execution_count": 4,
   "metadata": {
    "collapsed": true
   },
   "outputs": [],
   "source": [
    "loss = tf.reduce_mean(tf.square(y-ytr))\n",
    "optimizer = tf.train.GradientDescentOptimizer(0.015).minimize(loss)\n",
    "\n",
    "init = tf.initialize_all_variables()\n",
    "sess = tf.Session()"
   ]
  },
  {
   "cell_type": "code",
   "execution_count": 5,
   "metadata": {
    "collapsed": false
   },
   "outputs": [],
   "source": [
    "sess.run(init)\n",
    "epochs = 400\n",
    "steps = np.array([])\n",
    "J_hist = np.array([])\n",
    "for i in range(epochs):\n",
    "    sess.run(optimizer)\n",
    "    steps = np.append(steps, i)\n",
    "    J_hist = np.append(J_hist, sess.run(loss))"
   ]
  },
  {
   "cell_type": "code",
   "execution_count": 6,
   "metadata": {
    "collapsed": false
   },
   "outputs": [
    {
     "data": {
      "image/png": "[encoded data removed]",
      "text/plain": [
       "<matplotlib.figure.Figure at 0x115cfee48>"
      ]
     },
     "metadata": {},
     "output_type": "display_data"
    }
   ],
   "source": [
    "plt.figure(figsize=(6,5))\n",
    "plt.plot(steps, J_hist)\n",
    "plt.xlabel('Number of iterations')\n",
    "plt.ylabel('Cost J')\n",
    "plt.show()"
   ]
  },
  {
   "cell_type": "code",
   "execution_count": 7,
   "metadata": {
    "collapsed": false
   },
   "outputs": [],
   "source": [
    "priceEst = [1, 1650, 3]\n",
    "temp = [(i-j) for (i,j) in zip(priceEst,[0, xmean[0], xmean[1]])]\n",
    "price = np.array([(a/b) for (a,b) in zip(temp, [1, xstd[0], xstd[1]])])"
   ]
  },
  {
   "cell_type": "code",
   "execution_count": 8,
   "metadata": {
    "collapsed": false
   },
   "outputs": [],
   "source": [
    "theta = np.reshape([sess.run(b)[0], sess.run(W)[0], sess.run(W)[1]], (3,1))"
   ]
  },
  {
   "cell_type": "code",
   "execution_count": 9,
   "metadata": {
    "collapsed": false
   },
   "outputs": [
    {
     "name": "stdout",
     "output_type": "stream",
     "text": [
      "Predicted price of a 1650 sq-ft, 3 br house (uisng normal equations): $292337.81\n"
     ]
    }
   ],
   "source": [
    "print(\"Predicted price of a 1650 sq-ft, 3 br house (uisng normal equations): $%.2f\" %(np.dot(price, theta)[0]))"
   ]
  }
 ],
 "metadata": {
  "kernelspec": {
   "display_name": "Python 3",
   "language": "python",
   "name": "python3"
  },
  "language_info": {
   "codemirror_mode": {
    "name": "ipython",
    "version": 3
   },
   "file_extension": ".py",
   "mimetype": "text/x-python",
   "name": "python",
   "nbconvert_exporter": "python",
   "pygments_lexer": "ipython3",
   "version": "3.5.2"
  }
 },
 "nbformat": 4,
 "nbformat_minor": 1
}
