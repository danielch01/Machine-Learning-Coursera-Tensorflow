{
 "cells": [
  {
   "cell_type": "code",
   "execution_count": 168,
   "metadata": {
    "collapsed": true
   },
   "outputs": [],
   "source": [
    "%matplotlib inline\n",
    "import numpy as np\n",
    "import matplotlib.pyplot as plt\n",
    "import tensorflow as tf"
   ]
  },
  {
   "cell_type": "markdown",
   "metadata": {},
   "source": [
    "# Programming Exercise 1: Linear Regression"
   ]
  },
  {
   "cell_type": "markdown",
   "metadata": {},
   "source": [
    "In this exercise, you will implement linear regression and get to see it work on data. Before starting on this programming exercise, we strongly recom- mend watching the video lectures and completing the review questions for the associated topics.\n",
    "To get started with the exercise, you will need to download the starter code and unzip its contents to the directory where you wish to complete the exercise. If needed, use the cd command in Octave/MATLAB to change to this directory before starting this exercise.\n",
    "You can also find instructions for installing Octave/MATLAB in the “En- vironment Setup Instructions” of the course website."
   ]
  },
  {
   "cell_type": "markdown",
   "metadata": {},
   "source": [
    "## Linear Regression with One Variable"
   ]
  },
  {
   "cell_type": "markdown",
   "metadata": {},
   "source": [
    "In this part of this exercise, you will implement linear regression with one variable to predict profits for a food truck. Suppose you are the CEO of a restaurant franchise and are considering different cities for opening a new outlet. The chain already has trucks in various cities and you have data for profits and populations from the cities. You would like to use this data to help you select which city to expand to next."
   ]
  },
  {
   "cell_type": "code",
   "execution_count": 169,
   "metadata": {
    "collapsed": false
   },
   "outputs": [],
   "source": [
    "filename = \"data/ex1data1.txt\"\n",
    "data = np.loadtxt(filename, delimiter = \",\", usecols=(0,1), unpack = True)\n",
    "\n",
    "# Define training epochs (iterations) and step size (alfa) \n",
    "iterations = 1500\n",
    "alfa = 0.0001\n",
    "stepsize = 100\n",
    "\n",
    "# Define X and y arrays\n",
    "Xtr = np.asarray(data[:-1])[0]\n",
    "ytr = np.asarray(data[-1:])[0]\n",
    "theta = tf.Variable(0.0, name = \"theta\")\n",
    "m = Xtr.size"
   ]
  },
  {
   "cell_type": "code",
   "execution_count": 170,
   "metadata": {
    "collapsed": false
   },
   "outputs": [],
   "source": [
    "# tf Graph Input\n",
    "X = tf.placeholder(\"float\")\n",
    "Y = tf.placeholder(\"float\")"
   ]
  },
  {
   "cell_type": "code",
   "execution_count": 171,
   "metadata": {
    "collapsed": false
   },
   "outputs": [],
   "source": [
    "pred = tf.mul(X,theta)\n",
    "cost = tf.reduce_sum(tf.pow(pred-Y,2))/(2*m)"
   ]
  },
  {
   "cell_type": "code",
   "execution_count": 172,
   "metadata": {
    "collapsed": true
   },
   "outputs": [],
   "source": [
    "optim = tf.train.GradientDescentOptimizer(alfa).minimize(cost)\n",
    "init = tf.initialize_all_variables()"
   ]
  },
  {
   "cell_type": "code",
   "execution_count": 173,
   "metadata": {
    "collapsed": false
   },
   "outputs": [
    {
     "name": "stdout",
     "output_type": "stream",
     "text": [
      "Cost computed with theta initialized to zeros:  32.0727\n"
     ]
    }
   ],
   "source": [
    "sess = tf.Session()\n",
    "sess.run(init)\n",
    "initCost = sess.run(cost, feed_dict={X:Xtr, Y:ytr})\n",
    "\n",
    "print(\"Cost computed with theta initialized to zeros: \",\"{:.04f}\".format(initCost) )"
   ]
  },
  {
   "cell_type": "code",
   "execution_count": 174,
   "metadata": {
    "collapsed": false
   },
   "outputs": [
    {
     "name": "stdout",
     "output_type": "stream",
     "text": [
      "Iter: 0 => Theta: 0.00650368\n",
      "Iter: 100 => Theta: 0.449636\n",
      "Iter: 200 => Theta: 0.645956\n",
      "Iter: 300 => Theta: 0.732934\n",
      "Iter: 400 => Theta: 0.771466\n",
      "Iter: 500 => Theta: 0.788537\n",
      "Iter: 600 => Theta: 0.7961\n",
      "Iter: 700 => Theta: 0.799451\n",
      "Iter: 800 => Theta: 0.800934\n",
      "Iter: 900 => Theta: 0.801596\n",
      "Iter: 1000 => Theta: 0.80188\n",
      "Iter: 1100 => Theta: 0.802\n",
      "Iter: 1200 => Theta: 0.802046\n",
      "Iter: 1300 => Theta: 0.802075\n",
      "Iter: 1400 => Theta: 0.802087\n",
      "Optimization finished!\n",
      "Theta: 0.802093\n",
      "Accuracy of weights:  31.23 %\n"
     ]
    },
    {
     "data": {
      "image/png": "[encoded data removed]",
      "text/plain": [
       "<matplotlib.figure.Figure at 0x102995cf8>"
      ]
     },
     "metadata": {},
     "output_type": "display_data"
    },
    {
     "name": "stdout",
     "output_type": "stream",
     "text": [
      "\n",
      "Predictions for profits in areas of 35000 and 70000 people, respectively: $ 28073.25 ; $ 56146.50\n"
     ]
    }
   ],
   "source": [
    "with tf.Session() as sess:\n",
    "    sess.run(init)\n",
    "    \n",
    "    for i in range(iterations):\n",
    "        for (x,y) in zip(Xtr, ytr):\n",
    "            sess.run(optim, feed_dict={X:x, Y:y})\n",
    "        if (i)%stepsize == 0:\n",
    "            print(\"Iter:\", i, \"=> Theta:\", sess.run(theta))\n",
    "    print(\"Optimization finished!\")\n",
    "    print(\"Theta:\", sess.run(theta)) \n",
    "    acc = ((1.166362-sess.run(theta))/1.166362)*100\n",
    "    print(\"Accuracy of weights: \", \"{:.02f}\".format(acc), \"%\")\n",
    "    \n",
    "    \n",
    "    plt.plot(Xtr, ytr, 'rx', label=\"Original Data\")\n",
    "    plt.plot(Xtr, sess.run(theta)*Xtr, label=\"Fitted Line\")\n",
    "    plt.xlabel('Population of cities in 10000s')\n",
    "    plt.ylabel('Profit in $10000s')\n",
    "    plt.axis([4,24,-5,25])\n",
    "    plt.legend(loc=\"lower right\")\n",
    "    plt.show()\n",
    "            \n",
    "            \n",
    "    predict1 = sess.run(theta)*3.5*10000\n",
    "    predict2 = sess.run(theta)*7.*10000\n",
    "\n",
    "    print(\"\\nPredictions for profits in areas of 35000 and 70000 people, respectively: $\", \"{:.02f}\".format(predict1), \"; $\", \"{:.02f}\".format(predict2))"
   ]
  },
  {
   "cell_type": "code",
   "execution_count": null,
   "metadata": {
    "collapsed": true
   },
   "outputs": [],
   "source": []
  }
 ],
 "metadata": {
  "kernelspec": {
   "display_name": "Python 3",
   "language": "python",
   "name": "python3"
  },
  "language_info": {
   "codemirror_mode": {
    "name": "ipython",
    "version": 3
   },
   "file_extension": ".py",
   "mimetype": "text/x-python",
   "name": "python",
   "nbconvert_exporter": "python",
   "pygments_lexer": "ipython3",
   "version": "3.5.1"
  }
 },
 "nbformat": 4,
 "nbformat_minor": 0
}
