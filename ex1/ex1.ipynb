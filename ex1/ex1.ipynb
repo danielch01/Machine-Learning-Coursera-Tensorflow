{
 "cells": [
  {
   "cell_type": "code",
   "execution_count": 1,
   "metadata": {
    "collapsed": true
   },
   "outputs": [],
   "source": [
    "%matplotlib inline\n",
    "import numpy as np\n",
    "import matplotlib.pyplot as plt\n",
    "import tensorflow as tf"
   ]
  },
  {
   "cell_type": "markdown",
   "metadata": {},
   "source": [
    "# Programming Exercise 1: Linear Regression"
   ]
  },
  {
   "cell_type": "markdown",
   "metadata": {},
   "source": [
    "In this exercise, you will implement linear regression and get to see it work on data. Before starting on this programming exercise, we strongly recom- mend watching the video lectures and completing the review questions for the associated topics.\n",
    "To get started with the exercise, you will need to download the starter code and unzip its contents to the directory where you wish to complete the exercise. If needed, use the cd command in Octave/MATLAB to change to this directory before starting this exercise.\n",
    "You can also find instructions for installing Octave/MATLAB in the “En- vironment Setup Instructions” of the course website."
   ]
  },
  {
   "cell_type": "markdown",
   "metadata": {},
   "source": [
    "## Linear Regression with One Variable"
   ]
  },
  {
   "cell_type": "markdown",
   "metadata": {},
   "source": [
    "In this part of this exercise, you will implement linear regression with one variable to predict profits for a food truck. Suppose you are the CEO of a restaurant franchise and are considering different cities for opening a new outlet. The chain already has trucks in various cities and you have data for profits and populations from the cities. You would like to use this data to help you select which city to expand to next."
   ]
  },
  {
   "cell_type": "code",
   "execution_count": 2,
   "metadata": {
    "collapsed": false
   },
   "outputs": [],
   "source": [
    "filename = \"data/ex1data1.txt\"\n",
    "data = np.loadtxt(filename, delimiter = \",\", usecols=(0,1), unpack = True)\n",
    "# Define X and y arrays\n",
    "Xtr = np.asarray(data[:-1])[0]\n",
    "ytr = np.asarray(data[-1:])[0]"
   ]
  },
  {
   "cell_type": "code",
   "execution_count": 3,
   "metadata": {
    "collapsed": true
   },
   "outputs": [],
   "source": [
    "# Define weights\n",
    "W = tf.Variable(0.0)\n",
    "\n",
    "# Define bias\n",
    "b = tf.Variable(tf.zeros([1]))\n",
    "\n",
    "# Define cost function\n",
    "y = W*Xtr + b"
   ]
  },
  {
   "cell_type": "code",
   "execution_count": 4,
   "metadata": {
    "collapsed": false
   },
   "outputs": [],
   "source": [
    "alpha = 0.0055\n",
    "loss = tf.reduce_mean(tf.square(y-ytr))\n",
    "optimizer = tf.train.GradientDescentOptimizer(alpha).minimize(loss)\n",
    "\n",
    "init = tf.initialize_all_variables()"
   ]
  },
  {
   "cell_type": "code",
   "execution_count": 5,
   "metadata": {
    "collapsed": false
   },
   "outputs": [
    {
     "name": "stdout",
     "output_type": "stream",
     "text": [
      "Theta: 1.18549 [-3.82072234]\n",
      "The profits in area of 35,000 people: $3285.04\n",
      "The profits in area of 70,000 people: $44777.30\n"
     ]
    }
   ],
   "source": [
    "sess = tf.Session()\n",
    "sess.run(init)\n",
    "\n",
    "epochs = 2000\n",
    "for _ in range(epochs):\n",
    "    sess.run(optimizer)\n",
    "print(\"Theta:\", sess.run(W), sess.run(b))\n",
    "print(\"The profits in area of 35,000 people: $%.2f\" %(((sess.run(b) * 1) + (sess.run(W) * 3.5))*10000))\n",
    "print(\"The profits in area of 70,000 people: $%.2f\" %(((sess.run(b) * 1) + (sess.run(W) * 7))*10000))"
   ]
  },
  {
   "cell_type": "code",
   "execution_count": 6,
   "metadata": {
    "collapsed": false
   },
   "outputs": [
    {
     "data": {
      "image/png": "[encoded data removed]",
      "text/plain": [
       "<matplotlib.figure.Figure at 0x10b094128>"
      ]
     },
     "metadata": {},
     "output_type": "display_data"
    }
   ],
   "source": [
    "plt.figure(figsize=(6,3))\n",
    "plt.title('Learning rate: %s' %(alpha))\n",
    "plt.plot(Xtr, ytr, 'ro')\n",
    "plt.plot(Xtr, sess.run(W)*Xtr + sess.run(b))\n",
    "plt.xlabel('x')\n",
    "plt.ylabel('y')\n",
    "plt.show()"
   ]
  }
 ],
 "metadata": {
  "kernelspec": {
   "display_name": "Python 3",
   "language": "python",
   "name": "python3"
  },
  "language_info": {
   "codemirror_mode": {
    "name": "ipython",
    "version": 3
   },
   "file_extension": ".py",
   "mimetype": "text/x-python",
   "name": "python",
   "nbconvert_exporter": "python",
   "pygments_lexer": "ipython3",
   "version": "3.5.2"
  }
 },
 "nbformat": 4,
 "nbformat_minor": 0
}
